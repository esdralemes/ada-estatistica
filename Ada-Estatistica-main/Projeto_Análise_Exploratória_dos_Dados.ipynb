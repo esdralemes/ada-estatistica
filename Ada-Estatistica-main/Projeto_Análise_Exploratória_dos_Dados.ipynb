{
  "nbformat": 4,
  "nbformat_minor": 0,
  "metadata": {
    "colab": {
      "provenance": [],
      "authorship_tag": "ABX9TyN96YjScyBw3S07WiV/yi6p",
      "include_colab_link": true
    },
    "kernelspec": {
      "name": "python3",
      "display_name": "Python 3"
    },
    "language_info": {
      "name": "python"
    }
  },
  "cells": [
    {
      "cell_type": "markdown",
      "metadata": {
        "id": "view-in-github",
        "colab_type": "text"
      },
      "source": [
        "<a href=\"https://colab.research.google.com/github/Junio-Rodrigo-Silva/Ada-Estatistica/blob/main/Projeto_An%C3%A1lise_Explorat%C3%B3ria_dos_Dados.ipynb\" target=\"_parent\"><img src=\"https://colab.research.google.com/assets/colab-badge.svg\" alt=\"Open In Colab\"/></a>"
      ]
    },
    {
      "cell_type": "markdown",
      "source": [
        "## Salários em Data Science\n",
        "\n",
        "Contexto:\n",
        "\n",
        "\n",
        "\n",
        "No campo em rápida evolução da ciência de dados, compreender as tendências e padrões salariais é crucial tanto para profissionais como para organizações. Este projeto tem como objetivo apresentar o  cenário dos salários da ciência de dados de 2020 a 2024.\n",
        "\n",
        "\n",
        "\n",
        "Ao analisar os dados salariais durante esse período, entusiastas de dados, pesquisadores e profissionais do setor podem obter informações valiosas sobre tendências salariais, variações regionais e fatores potenciais que influenciam a remuneração. dentro da comunidade de ciência de dados.\n",
        "\n",
        "\n",
        "\n",
        "O conjunto de dados abrange uma coleção abrangente de informações salariais de ciência de dados, cobrindo um período de cinco anos, de 2020 a 2024. Os dados incluem vários aspectos relacionados aos salários, proporcionando uma visão multifacetada da remuneração na área.\n",
        "\n",
        "## Dicionário de Variáveis\n",
        "O dataset que foi utilizado conta com o seguinte dicionário de variáveis:\n",
        "\n",
        "job_title: o cargo ou função associado ao salário informado.\n",
        "\n",
        "experience_level: o nível de experiência do indíviduo.\n",
        "\n",
        "employment_type: indica o tipo de trabalho associado ao tempo gasto.\n",
        "\n",
        "work_models: descrição do modelo de trabalho (remoto, presencial ou híbrido).\n",
        "\n",
        "work_year: ano em que as informações salariais foram registradas.\n",
        "\n",
        "employee_residence: o local de residência do funcionário.\n",
        "\n",
        "salary: o salário informado na moeda original.\n",
        "\n",
        "salary_currency: identificação da moeda corrente.\n",
        "\n",
        "salary_in_usd: salário convertido em doláres americanos.\n",
        "\n",
        "company_location: localização geográfica da organização empregadora.\n",
        "\n",
        "company_size: o tamanho da empresa, levando em conta o número de funcionários da empresa.\n",
        "\n",
        "O link do dataset pode ser encontrado em: https://www.kaggle.com/datasets/sazidthe1/data-science-salaries\n"
      ],
      "metadata": {
        "id": "Urs3iahg7GQx"
      }
    },
    {
      "cell_type": "markdown",
      "source": [
        "## 1- Importar as bibliotecas"
      ],
      "metadata": {
        "id": "zIK_hKKm8Zs6"
      }
    },
    {
      "cell_type": "code",
      "source": [
        "import pandas as pd\n",
        "import seaborn as sn\n",
        "import numpy as np\n",
        "from matplotlib import pyplot as plt\n",
        "import plotly.express as px\n",
        "\n",
        "# Mostrar todas as colunas de um dataframe\n",
        "pd.set_option('display.max_columns', None)\n",
        "\n",
        "import warnings\n",
        "warnings.filterwarnings(\"ignore\")"
      ],
      "metadata": {
        "id": "82evD-ZM8hfZ"
      },
      "execution_count": 1,
      "outputs": []
    },
    {
      "cell_type": "markdown",
      "source": [
        "## 2- Importar a base"
      ],
      "metadata": {
        "id": "BUXyeEi79TmB"
      }
    },
    {
      "cell_type": "code",
      "source": [
        "df = pd.read_csv('data_science_salaries.csv')"
      ],
      "metadata": {
        "id": "sqnVCGaF9d4x"
      },
      "execution_count": 6,
      "outputs": []
    },
    {
      "cell_type": "markdown",
      "source": [
        "## 3- Verificar a estrutura da base"
      ],
      "metadata": {
        "id": "_QScjEUVAWWJ"
      }
    },
    {
      "cell_type": "code",
      "source": [
        "# Analisando as 5 primeiras linhas\n",
        "df.head(5)"
      ],
      "metadata": {
        "colab": {
          "base_uri": "https://localhost:8080/",
          "height": 206
        },
        "id": "lbKIbYkz_FpK",
        "outputId": "fa1fdcf0-3dce-4c94-d449-8c9bfa3f9629"
      },
      "execution_count": 13,
      "outputs": [
        {
          "output_type": "execute_result",
          "data": {
            "text/plain": [
              "        job_title experience_level employment_type work_models  work_year  \\\n",
              "0   Data Engineer        Mid-level       Full-time      Remote       2024   \n",
              "1   Data Engineer        Mid-level       Full-time      Remote       2024   \n",
              "2  Data Scientist     Senior-level       Full-time      Remote       2024   \n",
              "3  Data Scientist     Senior-level       Full-time      Remote       2024   \n",
              "4    BI Developer        Mid-level       Full-time     On-site       2024   \n",
              "\n",
              "  employee_residence  salary salary_currency  salary_in_usd company_location  \\\n",
              "0      United States  148100             USD         148100    United States   \n",
              "1      United States   98700             USD          98700    United States   \n",
              "2      United States  140032             USD         140032    United States   \n",
              "3      United States  100022             USD         100022    United States   \n",
              "4      United States  120000             USD         120000    United States   \n",
              "\n",
              "  company_size  \n",
              "0       Medium  \n",
              "1       Medium  \n",
              "2       Medium  \n",
              "3       Medium  \n",
              "4       Medium  "
            ],
            "text/html": [
              "\n",
              "  <div id=\"df-63953e1a-28c6-463d-a8fe-4cc6e13439f7\" class=\"colab-df-container\">\n",
              "    <div>\n",
              "<style scoped>\n",
              "    .dataframe tbody tr th:only-of-type {\n",
              "        vertical-align: middle;\n",
              "    }\n",
              "\n",
              "    .dataframe tbody tr th {\n",
              "        vertical-align: top;\n",
              "    }\n",
              "\n",
              "    .dataframe thead th {\n",
              "        text-align: right;\n",
              "    }\n",
              "</style>\n",
              "<table border=\"1\" class=\"dataframe\">\n",
              "  <thead>\n",
              "    <tr style=\"text-align: right;\">\n",
              "      <th></th>\n",
              "      <th>job_title</th>\n",
              "      <th>experience_level</th>\n",
              "      <th>employment_type</th>\n",
              "      <th>work_models</th>\n",
              "      <th>work_year</th>\n",
              "      <th>employee_residence</th>\n",
              "      <th>salary</th>\n",
              "      <th>salary_currency</th>\n",
              "      <th>salary_in_usd</th>\n",
              "      <th>company_location</th>\n",
              "      <th>company_size</th>\n",
              "    </tr>\n",
              "  </thead>\n",
              "  <tbody>\n",
              "    <tr>\n",
              "      <th>0</th>\n",
              "      <td>Data Engineer</td>\n",
              "      <td>Mid-level</td>\n",
              "      <td>Full-time</td>\n",
              "      <td>Remote</td>\n",
              "      <td>2024</td>\n",
              "      <td>United States</td>\n",
              "      <td>148100</td>\n",
              "      <td>USD</td>\n",
              "      <td>148100</td>\n",
              "      <td>United States</td>\n",
              "      <td>Medium</td>\n",
              "    </tr>\n",
              "    <tr>\n",
              "      <th>1</th>\n",
              "      <td>Data Engineer</td>\n",
              "      <td>Mid-level</td>\n",
              "      <td>Full-time</td>\n",
              "      <td>Remote</td>\n",
              "      <td>2024</td>\n",
              "      <td>United States</td>\n",
              "      <td>98700</td>\n",
              "      <td>USD</td>\n",
              "      <td>98700</td>\n",
              "      <td>United States</td>\n",
              "      <td>Medium</td>\n",
              "    </tr>\n",
              "    <tr>\n",
              "      <th>2</th>\n",
              "      <td>Data Scientist</td>\n",
              "      <td>Senior-level</td>\n",
              "      <td>Full-time</td>\n",
              "      <td>Remote</td>\n",
              "      <td>2024</td>\n",
              "      <td>United States</td>\n",
              "      <td>140032</td>\n",
              "      <td>USD</td>\n",
              "      <td>140032</td>\n",
              "      <td>United States</td>\n",
              "      <td>Medium</td>\n",
              "    </tr>\n",
              "    <tr>\n",
              "      <th>3</th>\n",
              "      <td>Data Scientist</td>\n",
              "      <td>Senior-level</td>\n",
              "      <td>Full-time</td>\n",
              "      <td>Remote</td>\n",
              "      <td>2024</td>\n",
              "      <td>United States</td>\n",
              "      <td>100022</td>\n",
              "      <td>USD</td>\n",
              "      <td>100022</td>\n",
              "      <td>United States</td>\n",
              "      <td>Medium</td>\n",
              "    </tr>\n",
              "    <tr>\n",
              "      <th>4</th>\n",
              "      <td>BI Developer</td>\n",
              "      <td>Mid-level</td>\n",
              "      <td>Full-time</td>\n",
              "      <td>On-site</td>\n",
              "      <td>2024</td>\n",
              "      <td>United States</td>\n",
              "      <td>120000</td>\n",
              "      <td>USD</td>\n",
              "      <td>120000</td>\n",
              "      <td>United States</td>\n",
              "      <td>Medium</td>\n",
              "    </tr>\n",
              "  </tbody>\n",
              "</table>\n",
              "</div>\n",
              "    <div class=\"colab-df-buttons\">\n",
              "\n",
              "  <div class=\"colab-df-container\">\n",
              "    <button class=\"colab-df-convert\" onclick=\"convertToInteractive('df-63953e1a-28c6-463d-a8fe-4cc6e13439f7')\"\n",
              "            title=\"Convert this dataframe to an interactive table.\"\n",
              "            style=\"display:none;\">\n",
              "\n",
              "  <svg xmlns=\"http://www.w3.org/2000/svg\" height=\"24px\" viewBox=\"0 -960 960 960\">\n",
              "    <path d=\"M120-120v-720h720v720H120Zm60-500h600v-160H180v160Zm220 220h160v-160H400v160Zm0 220h160v-160H400v160ZM180-400h160v-160H180v160Zm440 0h160v-160H620v160ZM180-180h160v-160H180v160Zm440 0h160v-160H620v160Z\"/>\n",
              "  </svg>\n",
              "    </button>\n",
              "\n",
              "  <style>\n",
              "    .colab-df-container {\n",
              "      display:flex;\n",
              "      gap: 12px;\n",
              "    }\n",
              "\n",
              "    .colab-df-convert {\n",
              "      background-color: #E8F0FE;\n",
              "      border: none;\n",
              "      border-radius: 50%;\n",
              "      cursor: pointer;\n",
              "      display: none;\n",
              "      fill: #1967D2;\n",
              "      height: 32px;\n",
              "      padding: 0 0 0 0;\n",
              "      width: 32px;\n",
              "    }\n",
              "\n",
              "    .colab-df-convert:hover {\n",
              "      background-color: #E2EBFA;\n",
              "      box-shadow: 0px 1px 2px rgba(60, 64, 67, 0.3), 0px 1px 3px 1px rgba(60, 64, 67, 0.15);\n",
              "      fill: #174EA6;\n",
              "    }\n",
              "\n",
              "    .colab-df-buttons div {\n",
              "      margin-bottom: 4px;\n",
              "    }\n",
              "\n",
              "    [theme=dark] .colab-df-convert {\n",
              "      background-color: #3B4455;\n",
              "      fill: #D2E3FC;\n",
              "    }\n",
              "\n",
              "    [theme=dark] .colab-df-convert:hover {\n",
              "      background-color: #434B5C;\n",
              "      box-shadow: 0px 1px 3px 1px rgba(0, 0, 0, 0.15);\n",
              "      filter: drop-shadow(0px 1px 2px rgba(0, 0, 0, 0.3));\n",
              "      fill: #FFFFFF;\n",
              "    }\n",
              "  </style>\n",
              "\n",
              "    <script>\n",
              "      const buttonEl =\n",
              "        document.querySelector('#df-63953e1a-28c6-463d-a8fe-4cc6e13439f7 button.colab-df-convert');\n",
              "      buttonEl.style.display =\n",
              "        google.colab.kernel.accessAllowed ? 'block' : 'none';\n",
              "\n",
              "      async function convertToInteractive(key) {\n",
              "        const element = document.querySelector('#df-63953e1a-28c6-463d-a8fe-4cc6e13439f7');\n",
              "        const dataTable =\n",
              "          await google.colab.kernel.invokeFunction('convertToInteractive',\n",
              "                                                    [key], {});\n",
              "        if (!dataTable) return;\n",
              "\n",
              "        const docLinkHtml = 'Like what you see? Visit the ' +\n",
              "          '<a target=\"_blank\" href=https://colab.research.google.com/notebooks/data_table.ipynb>data table notebook</a>'\n",
              "          + ' to learn more about interactive tables.';\n",
              "        element.innerHTML = '';\n",
              "        dataTable['output_type'] = 'display_data';\n",
              "        await google.colab.output.renderOutput(dataTable, element);\n",
              "        const docLink = document.createElement('div');\n",
              "        docLink.innerHTML = docLinkHtml;\n",
              "        element.appendChild(docLink);\n",
              "      }\n",
              "    </script>\n",
              "  </div>\n",
              "\n",
              "\n",
              "<div id=\"df-83df00b6-cd37-46b0-9b47-e472aa31af0d\">\n",
              "  <button class=\"colab-df-quickchart\" onclick=\"quickchart('df-83df00b6-cd37-46b0-9b47-e472aa31af0d')\"\n",
              "            title=\"Suggest charts\"\n",
              "            style=\"display:none;\">\n",
              "\n",
              "<svg xmlns=\"http://www.w3.org/2000/svg\" height=\"24px\"viewBox=\"0 0 24 24\"\n",
              "     width=\"24px\">\n",
              "    <g>\n",
              "        <path d=\"M19 3H5c-1.1 0-2 .9-2 2v14c0 1.1.9 2 2 2h14c1.1 0 2-.9 2-2V5c0-1.1-.9-2-2-2zM9 17H7v-7h2v7zm4 0h-2V7h2v10zm4 0h-2v-4h2v4z\"/>\n",
              "    </g>\n",
              "</svg>\n",
              "  </button>\n",
              "\n",
              "<style>\n",
              "  .colab-df-quickchart {\n",
              "      --bg-color: #E8F0FE;\n",
              "      --fill-color: #1967D2;\n",
              "      --hover-bg-color: #E2EBFA;\n",
              "      --hover-fill-color: #174EA6;\n",
              "      --disabled-fill-color: #AAA;\n",
              "      --disabled-bg-color: #DDD;\n",
              "  }\n",
              "\n",
              "  [theme=dark] .colab-df-quickchart {\n",
              "      --bg-color: #3B4455;\n",
              "      --fill-color: #D2E3FC;\n",
              "      --hover-bg-color: #434B5C;\n",
              "      --hover-fill-color: #FFFFFF;\n",
              "      --disabled-bg-color: #3B4455;\n",
              "      --disabled-fill-color: #666;\n",
              "  }\n",
              "\n",
              "  .colab-df-quickchart {\n",
              "    background-color: var(--bg-color);\n",
              "    border: none;\n",
              "    border-radius: 50%;\n",
              "    cursor: pointer;\n",
              "    display: none;\n",
              "    fill: var(--fill-color);\n",
              "    height: 32px;\n",
              "    padding: 0;\n",
              "    width: 32px;\n",
              "  }\n",
              "\n",
              "  .colab-df-quickchart:hover {\n",
              "    background-color: var(--hover-bg-color);\n",
              "    box-shadow: 0 1px 2px rgba(60, 64, 67, 0.3), 0 1px 3px 1px rgba(60, 64, 67, 0.15);\n",
              "    fill: var(--button-hover-fill-color);\n",
              "  }\n",
              "\n",
              "  .colab-df-quickchart-complete:disabled,\n",
              "  .colab-df-quickchart-complete:disabled:hover {\n",
              "    background-color: var(--disabled-bg-color);\n",
              "    fill: var(--disabled-fill-color);\n",
              "    box-shadow: none;\n",
              "  }\n",
              "\n",
              "  .colab-df-spinner {\n",
              "    border: 2px solid var(--fill-color);\n",
              "    border-color: transparent;\n",
              "    border-bottom-color: var(--fill-color);\n",
              "    animation:\n",
              "      spin 1s steps(1) infinite;\n",
              "  }\n",
              "\n",
              "  @keyframes spin {\n",
              "    0% {\n",
              "      border-color: transparent;\n",
              "      border-bottom-color: var(--fill-color);\n",
              "      border-left-color: var(--fill-color);\n",
              "    }\n",
              "    20% {\n",
              "      border-color: transparent;\n",
              "      border-left-color: var(--fill-color);\n",
              "      border-top-color: var(--fill-color);\n",
              "    }\n",
              "    30% {\n",
              "      border-color: transparent;\n",
              "      border-left-color: var(--fill-color);\n",
              "      border-top-color: var(--fill-color);\n",
              "      border-right-color: var(--fill-color);\n",
              "    }\n",
              "    40% {\n",
              "      border-color: transparent;\n",
              "      border-right-color: var(--fill-color);\n",
              "      border-top-color: var(--fill-color);\n",
              "    }\n",
              "    60% {\n",
              "      border-color: transparent;\n",
              "      border-right-color: var(--fill-color);\n",
              "    }\n",
              "    80% {\n",
              "      border-color: transparent;\n",
              "      border-right-color: var(--fill-color);\n",
              "      border-bottom-color: var(--fill-color);\n",
              "    }\n",
              "    90% {\n",
              "      border-color: transparent;\n",
              "      border-bottom-color: var(--fill-color);\n",
              "    }\n",
              "  }\n",
              "</style>\n",
              "\n",
              "  <script>\n",
              "    async function quickchart(key) {\n",
              "      const quickchartButtonEl =\n",
              "        document.querySelector('#' + key + ' button');\n",
              "      quickchartButtonEl.disabled = true;  // To prevent multiple clicks.\n",
              "      quickchartButtonEl.classList.add('colab-df-spinner');\n",
              "      try {\n",
              "        const charts = await google.colab.kernel.invokeFunction(\n",
              "            'suggestCharts', [key], {});\n",
              "      } catch (error) {\n",
              "        console.error('Error during call to suggestCharts:', error);\n",
              "      }\n",
              "      quickchartButtonEl.classList.remove('colab-df-spinner');\n",
              "      quickchartButtonEl.classList.add('colab-df-quickchart-complete');\n",
              "    }\n",
              "    (() => {\n",
              "      let quickchartButtonEl =\n",
              "        document.querySelector('#df-83df00b6-cd37-46b0-9b47-e472aa31af0d button');\n",
              "      quickchartButtonEl.style.display =\n",
              "        google.colab.kernel.accessAllowed ? 'block' : 'none';\n",
              "    })();\n",
              "  </script>\n",
              "</div>\n",
              "\n",
              "    </div>\n",
              "  </div>\n"
            ],
            "application/vnd.google.colaboratory.intrinsic+json": {
              "type": "dataframe",
              "variable_name": "df",
              "summary": "{\n  \"name\": \"df\",\n  \"rows\": 11087,\n  \"fields\": [\n    {\n      \"column\": \"job_title\",\n      \"properties\": {\n        \"dtype\": \"category\",\n        \"num_unique_values\": 132,\n        \"samples\": [\n          \"Data Management Specialist\",\n          \"Cloud Data Engineer\",\n          \"AI Engineer\"\n        ],\n        \"semantic_type\": \"\",\n        \"description\": \"\"\n      }\n    },\n    {\n      \"column\": \"experience_level\",\n      \"properties\": {\n        \"dtype\": \"category\",\n        \"num_unique_values\": 4,\n        \"samples\": [\n          \"Senior-level\",\n          \"Executive-level\",\n          \"Mid-level\"\n        ],\n        \"semantic_type\": \"\",\n        \"description\": \"\"\n      }\n    },\n    {\n      \"column\": \"employment_type\",\n      \"properties\": {\n        \"dtype\": \"category\",\n        \"num_unique_values\": 4,\n        \"samples\": [\n          \"Part-time\",\n          \"Freelance\",\n          \"Full-time\"\n        ],\n        \"semantic_type\": \"\",\n        \"description\": \"\"\n      }\n    },\n    {\n      \"column\": \"work_models\",\n      \"properties\": {\n        \"dtype\": \"category\",\n        \"num_unique_values\": 3,\n        \"samples\": [\n          \"Remote\",\n          \"On-site\",\n          \"Hybrid\"\n        ],\n        \"semantic_type\": \"\",\n        \"description\": \"\"\n      }\n    },\n    {\n      \"column\": \"work_year\",\n      \"properties\": {\n        \"dtype\": \"number\",\n        \"std\": 0,\n        \"min\": 2020,\n        \"max\": 2024,\n        \"num_unique_values\": 5,\n        \"samples\": [\n          2023,\n          2020,\n          2022\n        ],\n        \"semantic_type\": \"\",\n        \"description\": \"\"\n      }\n    },\n    {\n      \"column\": \"employee_residence\",\n      \"properties\": {\n        \"dtype\": \"category\",\n        \"num_unique_values\": 87,\n        \"samples\": [\n          \"Algeria\",\n          \"United States\",\n          \"South Africa\"\n        ],\n        \"semantic_type\": \"\",\n        \"description\": \"\"\n      }\n    },\n    {\n      \"column\": \"salary\",\n      \"properties\": {\n        \"dtype\": \"number\",\n        \"std\": 408031,\n        \"min\": 14000,\n        \"max\": 30400000,\n        \"num_unique_values\": 1833,\n        \"samples\": [\n          132320,\n          74540,\n          174000\n        ],\n        \"semantic_type\": \"\",\n        \"description\": \"\"\n      }\n    },\n    {\n      \"column\": \"salary_currency\",\n      \"properties\": {\n        \"dtype\": \"category\",\n        \"num_unique_values\": 22,\n        \"samples\": [\n          \"USD\",\n          \"AUD\",\n          \"PLN\"\n        ],\n        \"semantic_type\": \"\",\n        \"description\": \"\"\n      }\n    },\n    {\n      \"column\": \"salary_in_usd\",\n      \"properties\": {\n        \"dtype\": \"number\",\n        \"std\": 66704,\n        \"min\": 15000,\n        \"max\": 750000,\n        \"num_unique_values\": 2147,\n        \"samples\": [\n          272300,\n          38400,\n          306000\n        ],\n        \"semantic_type\": \"\",\n        \"description\": \"\"\n      }\n    },\n    {\n      \"column\": \"company_location\",\n      \"properties\": {\n        \"dtype\": \"category\",\n        \"num_unique_values\": 75,\n        \"samples\": [\n          \"India\",\n          \"Indonesia\",\n          \"Canada\"\n        ],\n        \"semantic_type\": \"\",\n        \"description\": \"\"\n      }\n    },\n    {\n      \"column\": \"company_size\",\n      \"properties\": {\n        \"dtype\": \"category\",\n        \"num_unique_values\": 3,\n        \"samples\": [\n          \"Medium\",\n          \"Large\",\n          \"Small\"\n        ],\n        \"semantic_type\": \"\",\n        \"description\": \"\"\n      }\n    }\n  ]\n}"
            }
          },
          "metadata": {},
          "execution_count": 13
        }
      ]
    },
    {
      "cell_type": "code",
      "source": [
        "# Analisando as 5 últimas linhas\n",
        "df.tail(5)"
      ],
      "metadata": {
        "colab": {
          "base_uri": "https://localhost:8080/",
          "height": 223
        },
        "id": "lX-PvqPaAQAa",
        "outputId": "b6a32a68-3c0b-4974-f08b-6bb628cc8406"
      },
      "execution_count": 15,
      "outputs": [
        {
          "output_type": "execute_result",
          "data": {
            "text/plain": [
              "                      job_title experience_level employment_type work_models  \\\n",
              "11082        Staff Data Analyst      Entry-level        Contract      Hybrid   \n",
              "11083        Staff Data Analyst  Executive-level       Full-time     On-site   \n",
              "11084  Machine Learning Manager     Senior-level       Full-time      Hybrid   \n",
              "11085             Data Engineer        Mid-level       Full-time      Hybrid   \n",
              "11086            Data Scientist     Senior-level       Full-time     On-site   \n",
              "\n",
              "       work_year employee_residence  salary salary_currency  salary_in_usd  \\\n",
              "11082       2020             Canada   60000             CAD          44753   \n",
              "11083       2020            Nigeria   15000             USD          15000   \n",
              "11084       2020             Canada  157000             CAD         117104   \n",
              "11085       2020            Austria   65000             EUR          74130   \n",
              "11086       2020            Austria   80000             EUR          91237   \n",
              "\n",
              "      company_location company_size  \n",
              "11082           Canada        Large  \n",
              "11083           Canada       Medium  \n",
              "11084           Canada        Large  \n",
              "11085          Austria        Large  \n",
              "11086          Austria        Small  "
            ],
            "text/html": [
              "\n",
              "  <div id=\"df-552558d0-c086-4edd-ae43-313030db6630\" class=\"colab-df-container\">\n",
              "    <div>\n",
              "<style scoped>\n",
              "    .dataframe tbody tr th:only-of-type {\n",
              "        vertical-align: middle;\n",
              "    }\n",
              "\n",
              "    .dataframe tbody tr th {\n",
              "        vertical-align: top;\n",
              "    }\n",
              "\n",
              "    .dataframe thead th {\n",
              "        text-align: right;\n",
              "    }\n",
              "</style>\n",
              "<table border=\"1\" class=\"dataframe\">\n",
              "  <thead>\n",
              "    <tr style=\"text-align: right;\">\n",
              "      <th></th>\n",
              "      <th>job_title</th>\n",
              "      <th>experience_level</th>\n",
              "      <th>employment_type</th>\n",
              "      <th>work_models</th>\n",
              "      <th>work_year</th>\n",
              "      <th>employee_residence</th>\n",
              "      <th>salary</th>\n",
              "      <th>salary_currency</th>\n",
              "      <th>salary_in_usd</th>\n",
              "      <th>company_location</th>\n",
              "      <th>company_size</th>\n",
              "    </tr>\n",
              "  </thead>\n",
              "  <tbody>\n",
              "    <tr>\n",
              "      <th>11082</th>\n",
              "      <td>Staff Data Analyst</td>\n",
              "      <td>Entry-level</td>\n",
              "      <td>Contract</td>\n",
              "      <td>Hybrid</td>\n",
              "      <td>2020</td>\n",
              "      <td>Canada</td>\n",
              "      <td>60000</td>\n",
              "      <td>CAD</td>\n",
              "      <td>44753</td>\n",
              "      <td>Canada</td>\n",
              "      <td>Large</td>\n",
              "    </tr>\n",
              "    <tr>\n",
              "      <th>11083</th>\n",
              "      <td>Staff Data Analyst</td>\n",
              "      <td>Executive-level</td>\n",
              "      <td>Full-time</td>\n",
              "      <td>On-site</td>\n",
              "      <td>2020</td>\n",
              "      <td>Nigeria</td>\n",
              "      <td>15000</td>\n",
              "      <td>USD</td>\n",
              "      <td>15000</td>\n",
              "      <td>Canada</td>\n",
              "      <td>Medium</td>\n",
              "    </tr>\n",
              "    <tr>\n",
              "      <th>11084</th>\n",
              "      <td>Machine Learning Manager</td>\n",
              "      <td>Senior-level</td>\n",
              "      <td>Full-time</td>\n",
              "      <td>Hybrid</td>\n",
              "      <td>2020</td>\n",
              "      <td>Canada</td>\n",
              "      <td>157000</td>\n",
              "      <td>CAD</td>\n",
              "      <td>117104</td>\n",
              "      <td>Canada</td>\n",
              "      <td>Large</td>\n",
              "    </tr>\n",
              "    <tr>\n",
              "      <th>11085</th>\n",
              "      <td>Data Engineer</td>\n",
              "      <td>Mid-level</td>\n",
              "      <td>Full-time</td>\n",
              "      <td>Hybrid</td>\n",
              "      <td>2020</td>\n",
              "      <td>Austria</td>\n",
              "      <td>65000</td>\n",
              "      <td>EUR</td>\n",
              "      <td>74130</td>\n",
              "      <td>Austria</td>\n",
              "      <td>Large</td>\n",
              "    </tr>\n",
              "    <tr>\n",
              "      <th>11086</th>\n",
              "      <td>Data Scientist</td>\n",
              "      <td>Senior-level</td>\n",
              "      <td>Full-time</td>\n",
              "      <td>On-site</td>\n",
              "      <td>2020</td>\n",
              "      <td>Austria</td>\n",
              "      <td>80000</td>\n",
              "      <td>EUR</td>\n",
              "      <td>91237</td>\n",
              "      <td>Austria</td>\n",
              "      <td>Small</td>\n",
              "    </tr>\n",
              "  </tbody>\n",
              "</table>\n",
              "</div>\n",
              "    <div class=\"colab-df-buttons\">\n",
              "\n",
              "  <div class=\"colab-df-container\">\n",
              "    <button class=\"colab-df-convert\" onclick=\"convertToInteractive('df-552558d0-c086-4edd-ae43-313030db6630')\"\n",
              "            title=\"Convert this dataframe to an interactive table.\"\n",
              "            style=\"display:none;\">\n",
              "\n",
              "  <svg xmlns=\"http://www.w3.org/2000/svg\" height=\"24px\" viewBox=\"0 -960 960 960\">\n",
              "    <path d=\"M120-120v-720h720v720H120Zm60-500h600v-160H180v160Zm220 220h160v-160H400v160Zm0 220h160v-160H400v160ZM180-400h160v-160H180v160Zm440 0h160v-160H620v160ZM180-180h160v-160H180v160Zm440 0h160v-160H620v160Z\"/>\n",
              "  </svg>\n",
              "    </button>\n",
              "\n",
              "  <style>\n",
              "    .colab-df-container {\n",
              "      display:flex;\n",
              "      gap: 12px;\n",
              "    }\n",
              "\n",
              "    .colab-df-convert {\n",
              "      background-color: #E8F0FE;\n",
              "      border: none;\n",
              "      border-radius: 50%;\n",
              "      cursor: pointer;\n",
              "      display: none;\n",
              "      fill: #1967D2;\n",
              "      height: 32px;\n",
              "      padding: 0 0 0 0;\n",
              "      width: 32px;\n",
              "    }\n",
              "\n",
              "    .colab-df-convert:hover {\n",
              "      background-color: #E2EBFA;\n",
              "      box-shadow: 0px 1px 2px rgba(60, 64, 67, 0.3), 0px 1px 3px 1px rgba(60, 64, 67, 0.15);\n",
              "      fill: #174EA6;\n",
              "    }\n",
              "\n",
              "    .colab-df-buttons div {\n",
              "      margin-bottom: 4px;\n",
              "    }\n",
              "\n",
              "    [theme=dark] .colab-df-convert {\n",
              "      background-color: #3B4455;\n",
              "      fill: #D2E3FC;\n",
              "    }\n",
              "\n",
              "    [theme=dark] .colab-df-convert:hover {\n",
              "      background-color: #434B5C;\n",
              "      box-shadow: 0px 1px 3px 1px rgba(0, 0, 0, 0.15);\n",
              "      filter: drop-shadow(0px 1px 2px rgba(0, 0, 0, 0.3));\n",
              "      fill: #FFFFFF;\n",
              "    }\n",
              "  </style>\n",
              "\n",
              "    <script>\n",
              "      const buttonEl =\n",
              "        document.querySelector('#df-552558d0-c086-4edd-ae43-313030db6630 button.colab-df-convert');\n",
              "      buttonEl.style.display =\n",
              "        google.colab.kernel.accessAllowed ? 'block' : 'none';\n",
              "\n",
              "      async function convertToInteractive(key) {\n",
              "        const element = document.querySelector('#df-552558d0-c086-4edd-ae43-313030db6630');\n",
              "        const dataTable =\n",
              "          await google.colab.kernel.invokeFunction('convertToInteractive',\n",
              "                                                    [key], {});\n",
              "        if (!dataTable) return;\n",
              "\n",
              "        const docLinkHtml = 'Like what you see? Visit the ' +\n",
              "          '<a target=\"_blank\" href=https://colab.research.google.com/notebooks/data_table.ipynb>data table notebook</a>'\n",
              "          + ' to learn more about interactive tables.';\n",
              "        element.innerHTML = '';\n",
              "        dataTable['output_type'] = 'display_data';\n",
              "        await google.colab.output.renderOutput(dataTable, element);\n",
              "        const docLink = document.createElement('div');\n",
              "        docLink.innerHTML = docLinkHtml;\n",
              "        element.appendChild(docLink);\n",
              "      }\n",
              "    </script>\n",
              "  </div>\n",
              "\n",
              "\n",
              "<div id=\"df-0876aeca-aa11-4777-8222-f608ca045fd1\">\n",
              "  <button class=\"colab-df-quickchart\" onclick=\"quickchart('df-0876aeca-aa11-4777-8222-f608ca045fd1')\"\n",
              "            title=\"Suggest charts\"\n",
              "            style=\"display:none;\">\n",
              "\n",
              "<svg xmlns=\"http://www.w3.org/2000/svg\" height=\"24px\"viewBox=\"0 0 24 24\"\n",
              "     width=\"24px\">\n",
              "    <g>\n",
              "        <path d=\"M19 3H5c-1.1 0-2 .9-2 2v14c0 1.1.9 2 2 2h14c1.1 0 2-.9 2-2V5c0-1.1-.9-2-2-2zM9 17H7v-7h2v7zm4 0h-2V7h2v10zm4 0h-2v-4h2v4z\"/>\n",
              "    </g>\n",
              "</svg>\n",
              "  </button>\n",
              "\n",
              "<style>\n",
              "  .colab-df-quickchart {\n",
              "      --bg-color: #E8F0FE;\n",
              "      --fill-color: #1967D2;\n",
              "      --hover-bg-color: #E2EBFA;\n",
              "      --hover-fill-color: #174EA6;\n",
              "      --disabled-fill-color: #AAA;\n",
              "      --disabled-bg-color: #DDD;\n",
              "  }\n",
              "\n",
              "  [theme=dark] .colab-df-quickchart {\n",
              "      --bg-color: #3B4455;\n",
              "      --fill-color: #D2E3FC;\n",
              "      --hover-bg-color: #434B5C;\n",
              "      --hover-fill-color: #FFFFFF;\n",
              "      --disabled-bg-color: #3B4455;\n",
              "      --disabled-fill-color: #666;\n",
              "  }\n",
              "\n",
              "  .colab-df-quickchart {\n",
              "    background-color: var(--bg-color);\n",
              "    border: none;\n",
              "    border-radius: 50%;\n",
              "    cursor: pointer;\n",
              "    display: none;\n",
              "    fill: var(--fill-color);\n",
              "    height: 32px;\n",
              "    padding: 0;\n",
              "    width: 32px;\n",
              "  }\n",
              "\n",
              "  .colab-df-quickchart:hover {\n",
              "    background-color: var(--hover-bg-color);\n",
              "    box-shadow: 0 1px 2px rgba(60, 64, 67, 0.3), 0 1px 3px 1px rgba(60, 64, 67, 0.15);\n",
              "    fill: var(--button-hover-fill-color);\n",
              "  }\n",
              "\n",
              "  .colab-df-quickchart-complete:disabled,\n",
              "  .colab-df-quickchart-complete:disabled:hover {\n",
              "    background-color: var(--disabled-bg-color);\n",
              "    fill: var(--disabled-fill-color);\n",
              "    box-shadow: none;\n",
              "  }\n",
              "\n",
              "  .colab-df-spinner {\n",
              "    border: 2px solid var(--fill-color);\n",
              "    border-color: transparent;\n",
              "    border-bottom-color: var(--fill-color);\n",
              "    animation:\n",
              "      spin 1s steps(1) infinite;\n",
              "  }\n",
              "\n",
              "  @keyframes spin {\n",
              "    0% {\n",
              "      border-color: transparent;\n",
              "      border-bottom-color: var(--fill-color);\n",
              "      border-left-color: var(--fill-color);\n",
              "    }\n",
              "    20% {\n",
              "      border-color: transparent;\n",
              "      border-left-color: var(--fill-color);\n",
              "      border-top-color: var(--fill-color);\n",
              "    }\n",
              "    30% {\n",
              "      border-color: transparent;\n",
              "      border-left-color: var(--fill-color);\n",
              "      border-top-color: var(--fill-color);\n",
              "      border-right-color: var(--fill-color);\n",
              "    }\n",
              "    40% {\n",
              "      border-color: transparent;\n",
              "      border-right-color: var(--fill-color);\n",
              "      border-top-color: var(--fill-color);\n",
              "    }\n",
              "    60% {\n",
              "      border-color: transparent;\n",
              "      border-right-color: var(--fill-color);\n",
              "    }\n",
              "    80% {\n",
              "      border-color: transparent;\n",
              "      border-right-color: var(--fill-color);\n",
              "      border-bottom-color: var(--fill-color);\n",
              "    }\n",
              "    90% {\n",
              "      border-color: transparent;\n",
              "      border-bottom-color: var(--fill-color);\n",
              "    }\n",
              "  }\n",
              "</style>\n",
              "\n",
              "  <script>\n",
              "    async function quickchart(key) {\n",
              "      const quickchartButtonEl =\n",
              "        document.querySelector('#' + key + ' button');\n",
              "      quickchartButtonEl.disabled = true;  // To prevent multiple clicks.\n",
              "      quickchartButtonEl.classList.add('colab-df-spinner');\n",
              "      try {\n",
              "        const charts = await google.colab.kernel.invokeFunction(\n",
              "            'suggestCharts', [key], {});\n",
              "      } catch (error) {\n",
              "        console.error('Error during call to suggestCharts:', error);\n",
              "      }\n",
              "      quickchartButtonEl.classList.remove('colab-df-spinner');\n",
              "      quickchartButtonEl.classList.add('colab-df-quickchart-complete');\n",
              "    }\n",
              "    (() => {\n",
              "      let quickchartButtonEl =\n",
              "        document.querySelector('#df-0876aeca-aa11-4777-8222-f608ca045fd1 button');\n",
              "      quickchartButtonEl.style.display =\n",
              "        google.colab.kernel.accessAllowed ? 'block' : 'none';\n",
              "    })();\n",
              "  </script>\n",
              "</div>\n",
              "\n",
              "    </div>\n",
              "  </div>\n"
            ],
            "application/vnd.google.colaboratory.intrinsic+json": {
              "type": "dataframe",
              "summary": "{\n  \"name\": \"df\",\n  \"rows\": 5,\n  \"fields\": [\n    {\n      \"column\": \"job_title\",\n      \"properties\": {\n        \"dtype\": \"string\",\n        \"num_unique_values\": 4,\n        \"samples\": [\n          \"Machine Learning Manager\",\n          \"Data Scientist\",\n          \"Staff Data Analyst\"\n        ],\n        \"semantic_type\": \"\",\n        \"description\": \"\"\n      }\n    },\n    {\n      \"column\": \"experience_level\",\n      \"properties\": {\n        \"dtype\": \"string\",\n        \"num_unique_values\": 4,\n        \"samples\": [\n          \"Executive-level\",\n          \"Mid-level\",\n          \"Entry-level\"\n        ],\n        \"semantic_type\": \"\",\n        \"description\": \"\"\n      }\n    },\n    {\n      \"column\": \"employment_type\",\n      \"properties\": {\n        \"dtype\": \"category\",\n        \"num_unique_values\": 2,\n        \"samples\": [\n          \"Full-time\",\n          \"Contract\"\n        ],\n        \"semantic_type\": \"\",\n        \"description\": \"\"\n      }\n    },\n    {\n      \"column\": \"work_models\",\n      \"properties\": {\n        \"dtype\": \"category\",\n        \"num_unique_values\": 2,\n        \"samples\": [\n          \"On-site\",\n          \"Hybrid\"\n        ],\n        \"semantic_type\": \"\",\n        \"description\": \"\"\n      }\n    },\n    {\n      \"column\": \"work_year\",\n      \"properties\": {\n        \"dtype\": \"number\",\n        \"std\": 0,\n        \"min\": 2020,\n        \"max\": 2020,\n        \"num_unique_values\": 1,\n        \"samples\": [\n          2020\n        ],\n        \"semantic_type\": \"\",\n        \"description\": \"\"\n      }\n    },\n    {\n      \"column\": \"employee_residence\",\n      \"properties\": {\n        \"dtype\": \"string\",\n        \"num_unique_values\": 3,\n        \"samples\": [\n          \"Canada\"\n        ],\n        \"semantic_type\": \"\",\n        \"description\": \"\"\n      }\n    },\n    {\n      \"column\": \"salary\",\n      \"properties\": {\n        \"dtype\": \"number\",\n        \"std\": 51655,\n        \"min\": 15000,\n        \"max\": 157000,\n        \"num_unique_values\": 5,\n        \"samples\": [\n          15000\n        ],\n        \"semantic_type\": \"\",\n        \"description\": \"\"\n      }\n    },\n    {\n      \"column\": \"salary_currency\",\n      \"properties\": {\n        \"dtype\": \"string\",\n        \"num_unique_values\": 3,\n        \"samples\": [\n          \"CAD\"\n        ],\n        \"semantic_type\": \"\",\n        \"description\": \"\"\n      }\n    },\n    {\n      \"column\": \"salary_in_usd\",\n      \"properties\": {\n        \"dtype\": \"number\",\n        \"std\": 39803,\n        \"min\": 15000,\n        \"max\": 117104,\n        \"num_unique_values\": 5,\n        \"samples\": [\n          15000\n        ],\n        \"semantic_type\": \"\",\n        \"description\": \"\"\n      }\n    },\n    {\n      \"column\": \"company_location\",\n      \"properties\": {\n        \"dtype\": \"category\",\n        \"num_unique_values\": 2,\n        \"samples\": [\n          \"Austria\"\n        ],\n        \"semantic_type\": \"\",\n        \"description\": \"\"\n      }\n    },\n    {\n      \"column\": \"company_size\",\n      \"properties\": {\n        \"dtype\": \"string\",\n        \"num_unique_values\": 3,\n        \"samples\": [\n          \"Large\"\n        ],\n        \"semantic_type\": \"\",\n        \"description\": \"\"\n      }\n    }\n  ]\n}"
            }
          },
          "metadata": {},
          "execution_count": 15
        }
      ]
    },
    {
      "cell_type": "markdown",
      "source": [
        "## 4- Análise de Consistência dos Dados"
      ],
      "metadata": {
        "id": "tyEbvbz_A76S"
      }
    },
    {
      "cell_type": "code",
      "source": [
        "# Verificando o tipo dos dados\n",
        "df.info()"
      ],
      "metadata": {
        "colab": {
          "base_uri": "https://localhost:8080/"
        },
        "id": "pw1X8JXs_X2q",
        "outputId": "ec07d780-c09a-4b6b-b37a-38a8d78c84b1"
      },
      "execution_count": 16,
      "outputs": [
        {
          "output_type": "stream",
          "name": "stdout",
          "text": [
            "<class 'pandas.core.frame.DataFrame'>\n",
            "RangeIndex: 11087 entries, 0 to 11086\n",
            "Data columns (total 11 columns):\n",
            " #   Column              Non-Null Count  Dtype \n",
            "---  ------              --------------  ----- \n",
            " 0   job_title           11087 non-null  object\n",
            " 1   experience_level    11087 non-null  object\n",
            " 2   employment_type     11087 non-null  object\n",
            " 3   work_models         11087 non-null  object\n",
            " 4   work_year           11087 non-null  int64 \n",
            " 5   employee_residence  11087 non-null  object\n",
            " 6   salary              11087 non-null  int64 \n",
            " 7   salary_currency     11087 non-null  object\n",
            " 8   salary_in_usd       11087 non-null  int64 \n",
            " 9   company_location    11087 non-null  object\n",
            " 10  company_size        11087 non-null  object\n",
            "dtypes: int64(3), object(8)\n",
            "memory usage: 952.9+ KB\n"
          ]
        }
      ]
    },
    {
      "cell_type": "markdown",
      "source": [
        "Analisando o tipo de dados, verificado que estão corretos e não é necessário algum tratamento."
      ],
      "metadata": {
        "id": "wfxiScwBBqBI"
      }
    },
    {
      "cell_type": "code",
      "source": [
        "# Verificando se existe números nulos em alguma coluna\n",
        "df.isna().mean()"
      ],
      "metadata": {
        "colab": {
          "base_uri": "https://localhost:8080/"
        },
        "id": "G2DQRY4KBNIp",
        "outputId": "e88d71fe-b53b-42df-ab2c-22aa3560a21f"
      },
      "execution_count": 17,
      "outputs": [
        {
          "output_type": "execute_result",
          "data": {
            "text/plain": [
              "job_title             0.0\n",
              "experience_level      0.0\n",
              "employment_type       0.0\n",
              "work_models           0.0\n",
              "work_year             0.0\n",
              "employee_residence    0.0\n",
              "salary                0.0\n",
              "salary_currency       0.0\n",
              "salary_in_usd         0.0\n",
              "company_location      0.0\n",
              "company_size          0.0\n",
              "dtype: float64"
            ]
          },
          "metadata": {},
          "execution_count": 17
        }
      ]
    },
    {
      "cell_type": "markdown",
      "source": [
        "Como não há a existência de valores nulos no dataset, não é necessário algum tratamento."
      ],
      "metadata": {
        "id": "eLbYhli1B2UJ"
      }
    },
    {
      "cell_type": "code",
      "source": [
        "# Para identificar possíveis Outliers, utilizaremos um boxplot da váriável salary_in_usd.\n",
        "sn.boxplot(y='salary_in_usd', data=df)"
      ],
      "metadata": {
        "colab": {
          "base_uri": "https://localhost:8080/",
          "height": 428
        },
        "id": "T9ld1tTODN4D",
        "outputId": "6636c611-b33e-4964-90cf-e0a401838e37"
      },
      "execution_count": 22,
      "outputs": [
        {
          "output_type": "execute_result",
          "data": {
            "text/plain": [
              "<Axes: ylabel='salary_in_usd'>"
            ]
          },
          "metadata": {},
          "execution_count": 22
        },
        {
          "output_type": "display_data",
          "data": {
            "text/plain": [
              "<Figure size 640x480 with 1 Axes>"
            ],
            "image/png": "[encoded data removed]"
          },
          "metadata": {}
        }
      ]
    },
    {
      "cell_type": "markdown",
      "source": [
        "Verifica-se a existência de outliers. Faremos uso da distância interquartil (IQR) associado aos valores agrupados no 1° Quartil (Valor que separa os 25% menores valores da coluna) e 3° Quartil (Valor que separa os 25% maiores valores da coluna) como método para tratativa dos outliers."
      ],
      "metadata": {
        "id": "JBYNpcoID-Sy"
      }
    },
    {
      "cell_type": "code",
      "source": [
        "# Cálculo IQR para variável 'salary_in_usd'\n",
        "q1_salary = df.salary_in_usd.quantile(.25)\n",
        "q3_salary = df.salary_in_usd.quantile(.75)\n",
        "IQR_salary = q3_salary - q1_salary\n",
        "print(f'Valor 1º Quartil: {q1_salary:.2f} dólares')\n",
        "print(f'Valor 3º Quartil: {q3_salary:.2f} dólares')\n",
        "print(f'Valor do IQR: {IQR_salary:.2f} dólares')\n",
        "\n",
        "# Limite para considerar outlier\n",
        "salary_top = q3_salary + (1.5 * IQR_salary)\n",
        "print(f'Valor Limite Superior: {salary_top:.2f} dólares')"
      ],
      "metadata": {
        "colab": {
          "base_uri": "https://localhost:8080/"
        },
        "id": "BHHkxwBxEEia",
        "outputId": "420a04ab-f27c-4710-b561-35e0b48a10ac"
      },
      "execution_count": 19,
      "outputs": [
        {
          "output_type": "stream",
          "name": "stdout",
          "text": [
            "Valor 1º Quartil: 104000.00 dólares\n",
            "Valor 3º Quartil: 185900.00 dólares\n",
            "Valor do IQR: 81900.00 dólares\n",
            "Valor Limite Superior: 308750.00 dólares\n"
          ]
        }
      ]
    },
    {
      "cell_type": "code",
      "source": [
        "# Quantidade de valores acima de 308750 para salary\n",
        "print(f'{len(df[df.salary_in_usd > 308750])} entradas')\n",
        "print(f'{(len(df[df.salary_in_usd > 308750]) / df.shape[0])*100:.2f} %')"
      ],
      "metadata": {
        "colab": {
          "base_uri": "https://localhost:8080/"
        },
        "id": "ZmF3S9CGEjvj",
        "outputId": "bbd8aa60-94c7-47d8-ced8-f88ed7e66982"
      },
      "execution_count": 20,
      "outputs": [
        {
          "output_type": "stream",
          "name": "stdout",
          "text": [
            "203 entradas\n",
            "1.83 %\n"
          ]
        }
      ]
    },
    {
      "cell_type": "markdown",
      "source": [
        "Por meio da IQR, checamos que o limite superior é de um salário de 308.750 dólares. Quando buscamos a representatividade deste público temos um share de apenas 1,83% de todas as informações disponíveis no dataset. Desse modo, seguiremos com a exclusão destes casos da base para que não haja interferência nas análises estatísticas do dataset."
      ],
      "metadata": {
        "id": "kNAe1Y8JEvuy"
      }
    },
    {
      "cell_type": "code",
      "source": [
        "# Remoção dos outliers da variável 'salary_in_usd'\n",
        "df.drop(df[df.salary_in_usd > 308750].index, axis=0, inplace=True)\n",
        "\n",
        "# Plot do Boxplot Pós Retirada dos Outliers\n",
        "sn.boxplot(y='salary_in_usd', data=df)\n",
        "plt.xlabel('Salários em Dólares')\n",
        "plt.title('BoxPlot da Variável Salário sem Outliers')"
      ],
      "metadata": {
        "colab": {
          "base_uri": "https://localhost:8080/",
          "height": 475
        },
        "id": "TbeyhN9XFDva",
        "outputId": "cb6ff81e-4607-4bea-e749-c7b6d09b46d8"
      },
      "execution_count": 25,
      "outputs": [
        {
          "output_type": "execute_result",
          "data": {
            "text/plain": [
              "Text(0.5, 1.0, 'BoxPlot da Variável Salário sem Outliers')"
            ]
          },
          "metadata": {},
          "execution_count": 25
        },
        {
          "output_type": "display_data",
          "data": {
            "text/plain": [
              "<Figure size 640x480 with 1 Axes>"
            ],
            "image/png": "[encoded data removed]"
          },
          "metadata": {}
        }
      ]
    },
    {
      "cell_type": "markdown",
      "source": [
        "## 5- Análise Exploratória dos Dados"
      ],
      "metadata": {
        "id": "XNt9844BFwXZ"
      }
    },
    {
      "cell_type": "markdown",
      "source": [
        "5.1- Qual é a distribuição salarial por cargo no dataset?"
      ],
      "metadata": {
        "id": "6qFGDlS_GYwL"
      }
    },
    {
      "cell_type": "code",
      "source": [
        "cargos_distintos = df['job_title'].nunique()\n",
        "print(f'Variedade de cargos distintos no dataset: ',cargos_distintos)"
      ],
      "metadata": {
        "colab": {
          "base_uri": "https://localhost:8080/"
        },
        "id": "GHD0h77dGG6Q",
        "outputId": "acfa4e60-68db-4d92-a9ac-4000443d37cd"
      },
      "execution_count": 28,
      "outputs": [
        {
          "output_type": "stream",
          "name": "stdout",
          "text": [
            "Variedade de cargos distintos no dataset:  130\n"
          ]
        }
      ]
    },
    {
      "cell_type": "markdown",
      "source": [
        "Como o número de cargos é muito amplo, verificaremos qual a representatividade de cada cargo no dataset.\n"
      ],
      "metadata": {
        "id": "TbSkrwtkHYHU"
      }
    },
    {
      "cell_type": "code",
      "source": [
        "# Verificação dos cargos mais representativos\n",
        "count_jobs = df['job_title'].value_counts()\n",
        "print(count_jobs)"
      ],
      "metadata": {
        "colab": {
          "base_uri": "https://localhost:8080/"
        },
        "id": "_ZYLt4SJH5C8",
        "outputId": "1d592c0c-7421-4c79-d995-174020b7a277"
      },
      "execution_count": 34,
      "outputs": [
        {
          "output_type": "stream",
          "name": "stdout",
          "text": [
            "Data Engineer                2484\n",
            "Data Scientist               2260\n",
            "Data Analyst                 1647\n",
            "Machine Learning Engineer    1120\n",
            "Research Scientist            330\n",
            "                             ... \n",
            "Deep Learning Researcher        1\n",
            "Power BI Developer              1\n",
            "Data Analyst Lead               1\n",
            "AI Product Manager              1\n",
            "Sales Data Analyst              1\n",
            "Name: job_title, Length: 130, dtype: int64\n"
          ]
        }
      ]
    },
    {
      "cell_type": "markdown",
      "source": [
        "Analisando a representatividade de cada cargo, iremos analisar os cargos que possuem representatividade acima de 1000."
      ],
      "metadata": {
        "id": "Q68rr-ZaIsO8"
      }
    },
    {
      "cell_type": "code",
      "source": [
        "# Cargos com representatividade acima de 1000\n",
        "count_jobs = df['job_title'].value_counts()\n",
        "count_jobs_big = count_jobs[count_jobs > 1000]\n",
        "print(count_jobs_big)"
      ],
      "metadata": {
        "colab": {
          "base_uri": "https://localhost:8080/"
        },
        "id": "QDLsPSMnHjp5",
        "outputId": "7028796e-d868-4f37-8f26-2c826ba4ed58"
      },
      "execution_count": 35,
      "outputs": [
        {
          "output_type": "stream",
          "name": "stdout",
          "text": [
            "Data Engineer                2484\n",
            "Data Scientist               2260\n",
            "Data Analyst                 1647\n",
            "Machine Learning Engineer    1120\n",
            "Name: job_title, dtype: int64\n"
          ]
        }
      ]
    },
    {
      "cell_type": "code",
      "source": [
        "# Criando um novo dataset apenas com as informações dos cargos mais representativos na amostra\n",
        "df_cargos = df.copy()\n",
        "df_cargos = df_cargos[df_cargos['job_title'].isin(['Data Engineer', 'Data Scientist','Data Analyst', 'Machine Learning Engineer'])]"
      ],
      "metadata": {
        "id": "uwn4to5PJDpS"
      },
      "execution_count": 36,
      "outputs": []
    },
    {
      "cell_type": "code",
      "source": [
        "# Tamanho do gráfico em polegadas\n",
        "plt.figure(figsize =(11, 8))\n",
        "sn.set_style(\"white\")\n",
        "\n",
        "# boxplot da variável cargos em relação ao salário em dólares\n",
        "ax = sn.boxplot(x='job_title', y='salary_in_usd',data=df_cargos, showfliers=True, palette='muted')\n",
        "plt.xlabel('Cargos')\n",
        "plt.ylabel('Salário em Dólares')\n",
        "ax.spines['top'].set_visible(False)\n",
        "ax.spines['right'].set_visible(False)\n",
        "plt.show()"
      ],
      "metadata": {
        "colab": {
          "base_uri": "https://localhost:8080/",
          "height": 696
        },
        "id": "g-tYn8e1JPwC",
        "outputId": "16b1ef16-7325-499a-b890-39cce22361a1"
      },
      "execution_count": 38,
      "outputs": [
        {
          "output_type": "display_data",
          "data": {
            "text/plain": [
              "<Figure size 1100x800 with 1 Axes>"
            ],
            "image/png": "[encoded data removed]"
          },
          "metadata": {}
        }
      ]
    },
    {
      "cell_type": "code",
      "source": [
        "# Cálculo da média e mediana dos 4 principais cargos\n",
        "media_cargo = df_cargos.groupby('job_title')['salary_in_usd'].mean()\n",
        "mediana_cargo = df_cargos.groupby('job_title')['salary_in_usd'].median()\n",
        "\n",
        "# Criar dataframe para visualização\n",
        "df_resultados = pd.DataFrame({'Média': media_cargo, 'Mediana': mediana_cargo})\n",
        "print(df_resultados)"
      ],
      "metadata": {
        "colab": {
          "base_uri": "https://localhost:8080/"
        },
        "id": "Fp7kv_MsJscb",
        "outputId": "b50beb90-278c-4906-de27-be307451dc41"
      },
      "execution_count": 39,
      "outputs": [
        {
          "output_type": "stream",
          "name": "stdout",
          "text": [
            "                                   Média   Mediana\n",
            "job_title                                         \n",
            "Data Analyst               107629.527019  105000.0\n",
            "Data Engineer              145069.015700  139700.0\n",
            "Data Scientist             152419.494690  150160.0\n",
            "Machine Learning Engineer  178996.683036  176000.0\n"
          ]
        }
      ]
    },
    {
      "cell_type": "markdown",
      "source": [
        "O Data Analyst apresenta uma média salarial de 107.629, figurando como o cargo com menor média salarial. O cargos de Data Scientist e Data Engineer apresentam médias salariais próximas, de 152.419 e 145.069, respectivamente. Figurando na ponta, temos o Machine Learning Engineer, com média salarial de 178.996. Em um primeiro momento, busca-se explicar essa diferenciação salarial entre os cargos por conta dos limitantes técnicos que cada um dos cargos apresentam."
      ],
      "metadata": {
        "id": "ewtDhuTIJxWL"
      }
    },
    {
      "cell_type": "code",
      "source": [
        "# Focalizando a análise apenas nas informações de sênior\n",
        "df_cargos = df_cargos[df_cargos['experience_level'].isin(['Senior-level'])]\n",
        "\n",
        "# Tamanho do gráfico em polegadas\n",
        "plt.figure(figsize =(11, 8))\n",
        "sn.set_style(\"white\")\n",
        "\n",
        "#Plotando o boxplot da cargos em relação ao salário em dólares\n",
        "ax = sn.boxplot(x='job_title', y='salary_in_usd',data=df_cargos, showfliers=True, palette='muted')\n",
        "plt.xlabel('Cargos')\n",
        "plt.ylabel('Salário em Dólares')\n",
        "ax.spines['top'].set_visible(False)\n",
        "ax.spines['right'].set_visible(False)\n",
        "plt.show()"
      ],
      "metadata": {
        "colab": {
          "base_uri": "https://localhost:8080/",
          "height": 696
        },
        "id": "MIHLEtG1KSKr",
        "outputId": "e44a7638-220d-4411-9841-5b828285a8ad"
      },
      "execution_count": 40,
      "outputs": [
        {
          "output_type": "display_data",
          "data": {
            "text/plain": [
              "<Figure size 1100x800 with 1 Axes>"
            ],
            "image/png": "[encoded data removed]"
          },
          "metadata": {}
        }
      ]
    },
    {
      "cell_type": "markdown",
      "source": [
        "Analisando por nível de experiência sênior, nota-se o mesmo comportamento da distribuição apresentada com a amostra completa."
      ],
      "metadata": {
        "id": "1kJD-yVUKgF6"
      }
    },
    {
      "cell_type": "markdown",
      "source": [
        "5.2- Evolução do salário médio ao longo dos anos"
      ],
      "metadata": {
        "id": "vayy1rVoKxFT"
      }
    },
    {
      "cell_type": "code",
      "source": [
        "# Compreender o volume de informações para cada ano\n",
        "count_anos = df['work_year'].value_counts()\n",
        "print(count_anos)"
      ],
      "metadata": {
        "colab": {
          "base_uri": "https://localhost:8080/"
        },
        "id": "DZckBPNXK9We",
        "outputId": "dc4a606f-8ef1-4df2-83be-8c578dbf7592"
      },
      "execution_count": 41,
      "outputs": [
        {
          "output_type": "stream",
          "name": "stdout",
          "text": [
            "2023    8352\n",
            "2022    1640\n",
            "2024     604\n",
            "2021     216\n",
            "2020      72\n",
            "Name: work_year, dtype: int64\n"
          ]
        }
      ]
    },
    {
      "cell_type": "code",
      "source": [
        "# Tamanho do gráfico em polegadas\n",
        "plt.figure(figsize =(11, 8))\n",
        "sn.set_style(\"white\")\n",
        "\n",
        "#Plotando o boxplot da variável ano em relação ao salário em dólares\n",
        "ax = sn.boxplot(x='work_year', y='salary_in_usd',data=df, showfliers=True, palette='muted')\n",
        "plt.xlabel('Ano')\n",
        "plt.ylabel('Salário em Dólares')\n",
        "ax.spines['top'].set_visible(False)\n",
        "ax.spines['right'].set_visible(False)\n",
        "plt.show()"
      ],
      "metadata": {
        "colab": {
          "base_uri": "https://localhost:8080/",
          "height": 696
        },
        "id": "nNSuOkzDLOGk",
        "outputId": "2c14b163-e555-43df-d814-f8aff2997e65"
      },
      "execution_count": 42,
      "outputs": [
        {
          "output_type": "display_data",
          "data": {
            "text/plain": [
              "<Figure size 1100x800 with 1 Axes>"
            ],
            "image/png": "[encoded data removed]"
          },
          "metadata": {}
        }
      ]
    },
    {
      "cell_type": "code",
      "source": [
        "df['salary_in_usd'].describe()"
      ],
      "metadata": {
        "colab": {
          "base_uri": "https://localhost:8080/"
        },
        "id": "dZFJ1rUOLjqT",
        "outputId": "80e3a0a5-3c5c-4ba7-ca9a-29bba2ac6433"
      },
      "execution_count": 43,
      "outputs": [
        {
          "output_type": "execute_result",
          "data": {
            "text/plain": [
              "count     10884.000000\n",
              "mean     145565.446068\n",
              "std       59026.317370\n",
              "min       15000.000000\n",
              "25%      102905.000000\n",
              "50%      140100.000000\n",
              "75%      185000.000000\n",
              "max      308000.000000\n",
              "Name: salary_in_usd, dtype: float64"
            ]
          },
          "metadata": {},
          "execution_count": 43
        }
      ]
    },
    {
      "cell_type": "markdown",
      "source": [
        "O gráfico apresenta a tendência de crescimento anual na área de Data Science."
      ],
      "metadata": {
        "id": "2v8HnS-PLreb"
      }
    },
    {
      "cell_type": "markdown",
      "source": [
        "5.3 - Existe uma variação salarial pelo nível de experiência?"
      ],
      "metadata": {
        "id": "L5h3DZbjL76E"
      }
    },
    {
      "cell_type": "code",
      "source": [
        "# Subplot de 2 gráficos\n",
        "fig, axes = plt.subplots(1, 2, figsize=(15, 10))\n",
        "\n",
        "# Gráfico 1\n",
        "sn.countplot(x='experience_level', data=df, ax=axes[0],color='lightcoral')\n",
        "axes[0].set_title('Quantidade da Amostra por Experiência do Funcionário')\n",
        "\n",
        "#Gráfico 2\n",
        "sn.boxplot(x='experience_level', y='salary_in_usd', data=df, ax=axes[1], color='coral')\n",
        "axes[1].set_title('Relação entre Salário e Nível de Experiência')"
      ],
      "metadata": {
        "colab": {
          "base_uri": "https://localhost:8080/",
          "height": 890
        },
        "id": "WFfGtdChMHxL",
        "outputId": "83522760-94da-4496-a820-7eaefb3fbb91"
      },
      "execution_count": 44,
      "outputs": [
        {
          "output_type": "execute_result",
          "data": {
            "text/plain": [
              "Text(0.5, 1.0, 'Relação entre Salário e Nível de Experiência')"
            ]
          },
          "metadata": {},
          "execution_count": 44
        },
        {
          "output_type": "display_data",
          "data": {
            "text/plain": [
              "<Figure size 1500x1000 with 2 Axes>"
            ],
            "image/png": "[encoded data removed]"
          },
          "metadata": {}
        }
      ]
    },
    {
      "cell_type": "markdown",
      "source": [
        "Os gráficos apresentam que um profissional nível Junior possui um salário médio de 77.000 dólares, um profissional de nível sênior apresenta uma média salarial de 153k, já o profissional de cargo executivo apresenta uma média salárial de\n",
        "180.000. Interessante notar a presença de alguns salários outliers quando agrupados por nível de experiência, como a presença profissionais de nível Junior ganhando acima de 200.000."
      ],
      "metadata": {
        "id": "4m3TC47aMWAb"
      }
    },
    {
      "cell_type": "markdown",
      "source": [
        "## Conclusões\n",
        "\n",
        "Há pouco mais de 10 anos atrás foi publicado um artigo que conceituava o cientista de dados como a profissão mais sexy do mundo. Uma década depois observamos o crescimento cada vez maior da área, repleto de novos desdobramentos e desenvolvimentos constantes. A presente análise buscou analisar um dataset com vistas a trazer visões e interpretações acerca do atual contexto da área, que podem ser resumidos:\n",
        "\n",
        "Dentre os principais cargos da amostra (Data Engineer, Data Analyst, Data Scientist, Machine Learning Engineer) temos os profissionais de ML Engineer com as maiores médias salariais, superando a média de 175.000 doláres.\n",
        "\n",
        "Grande parte da amostra advém de informações dos anos de 2022 e 2023, representando um crescimento das médias salariais, muito em linha com o contexto pós pandemia;\n",
        "\n",
        "Existe uma correlação positiva entre a senioridade do profissional e o salário recebido;\n",
        "\n",
        "Existem Outliers no dataset que podem interferir na análise em relação aos salários uma vez que alguns profissionais com nível junior receberam salários equivalentes aos profissionais de nível sênior e executivo.\n"
      ],
      "metadata": {
        "id": "rAO9ejnsO6y1"
      }
    }
  ]
}